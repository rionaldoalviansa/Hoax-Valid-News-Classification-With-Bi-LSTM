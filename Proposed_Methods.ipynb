{
  "cells": [
    {
      "cell_type": "code",
      "execution_count": null,
      "metadata": {
        "id": "K50wUn_LG_6a"
      },
      "outputs": [],
      "source": [
        "import pandas as pd\n",
        "import numpy as np\n",
        "import re \n",
        "import nltk \n",
        "from sklearn.pipeline import Pipeline\n",
        "from sklearn.feature_extraction.text import CountVectorizer, TfidfVectorizer\n",
        "from sklearn.linear_model import LogisticRegression\n",
        "from sklearn.model_selection import train_test_split, cross_val_score, KFold\n",
        "\n",
        "from nltk.corpus import stopwords\n",
        "from tqdm import tqdm\n",
        "from nltk.stem import WordNetLemmatizer\n",
        "from wordcloud import WordCloud\n",
        "import matplotlib.pyplot as plt\n",
        "import numpy as np\n",
        "from PIL import Image\n",
        "from sklearn.feature_extraction.text import CountVectorizer\n",
        "from sklearn import preprocessing\n",
        "\n",
        "from tensorflow.keras.layers import Embedding\n",
        "from tensorflow.keras.preprocessing.sequence import pad_sequences\n",
        "from tensorflow.keras.models import Sequential\n",
        "from tensorflow.keras.preprocessing.text import one_hot\n",
        "from tensorflow.keras.layers import LSTM\n",
        "from tensorflow.keras.layers import Dense\n",
        "from tensorflow.keras.layers import Bidirectional\n",
        "from tensorflow.keras.layers import Dropout\n",
        "\n",
        "import tensorflow as tf\n",
        "from tensorflow import keras\n",
        "\n",
        "from sklearn.metrics import confusion_matrix\n",
        "from sklearn.metrics import accuracy_score\n",
        "from sklearn.metrics import classification_report"
      ]
    },
    {
      "cell_type": "code",
      "source": [
        "import seaborn as sns"
      ],
      "metadata": {
        "id": "M3HUqPTVJ-c_"
      },
      "execution_count": null,
      "outputs": []
    },
    {
      "cell_type": "code",
      "execution_count": null,
      "metadata": {
        "id": "SVYX6gW8K8T-"
      },
      "outputs": [],
      "source": [
        "df = pd.read_csv('https://raw.githubusercontent.com/rionaldoalviansa/Deep-Learning/main/preprocessed2.csv')"
      ]
    },
    {
      "cell_type": "markdown",
      "source": [
        "#Proposed Method - Using TF-IDF as Vectorizer"
      ],
      "metadata": {
        "id": "0Zqt4R4lFuB7"
      }
    },
    {
      "cell_type": "markdown",
      "source": [
        "###Test Dataset Additional Preprocessing (TF-IDF)"
      ],
      "metadata": {
        "id": "IT1Lnq2wLDH0"
      }
    },
    {
      "cell_type": "code",
      "source": [
        "label_encoder = preprocessing.LabelEncoder()\n",
        "df['label']= label_encoder.fit_transform(df['tagging'])"
      ],
      "metadata": {
        "id": "QVGKLG0EK9di"
      },
      "execution_count": null,
      "outputs": []
    },
    {
      "cell_type": "code",
      "source": [
        "X = df.stem_str\n",
        "y = df.label"
      ],
      "metadata": {
        "id": "wefx4FfQGCFD"
      },
      "execution_count": null,
      "outputs": []
    },
    {
      "cell_type": "code",
      "source": [
        "from sklearn.feature_extraction.text import TfidfVectorizer\n",
        "\n",
        "vectorizer = TfidfVectorizer()\n",
        "X_train_vect = vectorizer.fit_transform(X)"
      ],
      "metadata": {
        "id": "dSKBBltVFyA4"
      },
      "execution_count": null,
      "outputs": []
    },
    {
      "cell_type": "code",
      "source": [
        "from sklearn.decomposition import TruncatedSVD"
      ],
      "metadata": {
        "id": "HrH9nCciGFiw"
      },
      "execution_count": null,
      "outputs": []
    },
    {
      "cell_type": "code",
      "source": [
        "clf = TruncatedSVD(200)\n",
        "X_train_clf = clf.fit_transform(X_train_vect)"
      ],
      "metadata": {
        "id": "XmvIPz8ZGDzV"
      },
      "execution_count": null,
      "outputs": []
    },
    {
      "cell_type": "code",
      "source": [
        "from sklearn.model_selection import train_test_split\n",
        "\n",
        "X_train, X_val, y_train, y_val = train_test_split(X_train_clf, y, random_state=42, train_size=0.8,stratify = y)"
      ],
      "metadata": {
        "id": "2_UCltbwINIh"
      },
      "execution_count": null,
      "outputs": []
    },
    {
      "cell_type": "code",
      "source": [
        "X_train.shape,X_val.shape"
      ],
      "metadata": {
        "colab": {
          "base_uri": "https://localhost:8080/"
        },
        "id": "40dugA79HI4r",
        "outputId": "30521227-2297-4201-f7f0-8182b22cdfa2"
      },
      "execution_count": null,
      "outputs": [
        {
          "output_type": "execute_result",
          "data": {
            "text/plain": [
              "((480, 200), (120, 200))"
            ]
          },
          "metadata": {},
          "execution_count": 34
        }
      ]
    },
    {
      "cell_type": "markdown",
      "metadata": {
        "id": "O0oQTzGyiaIi"
      },
      "source": [
        "##Test Dataset Additional Preprocessing (TF-IDF)"
      ]
    },
    {
      "cell_type": "code",
      "execution_count": null,
      "metadata": {
        "id": "Oaw_VmXqmjAB"
      },
      "outputs": [],
      "source": [
        "test_df = pd.read_csv('https://raw.githubusercontent.com/rionaldoalviansa/Deep-Learning/main/preprocessedtest.csv')"
      ]
    },
    {
      "cell_type": "code",
      "execution_count": null,
      "metadata": {
        "id": "lb_rpDJ6qd6J"
      },
      "outputs": [],
      "source": [
        "label_encoder = preprocessing.LabelEncoder()\n",
        "test_df['label']= label_encoder.fit_transform(test_df['tagging'])"
      ]
    },
    {
      "cell_type": "code",
      "source": [
        "test_X = test_df.stem_str\n",
        "test_y = test_df.label"
      ],
      "metadata": {
        "id": "pkn6y6R6HRgi"
      },
      "execution_count": null,
      "outputs": []
    },
    {
      "cell_type": "code",
      "source": [
        "X_test_vect = vectorizer.transform(test_X)"
      ],
      "metadata": {
        "id": "JK_h_guGIeMz"
      },
      "execution_count": null,
      "outputs": []
    },
    {
      "cell_type": "code",
      "source": [
        "X_test_vect_clf = clf.transform(X_test_vect)"
      ],
      "metadata": {
        "id": "HbGgHNtUHRgk"
      },
      "execution_count": null,
      "outputs": []
    },
    {
      "cell_type": "code",
      "source": [
        "X_test = X_test_vect_clf"
      ],
      "metadata": {
        "id": "xFs06uzgHRgl"
      },
      "execution_count": null,
      "outputs": []
    },
    {
      "cell_type": "code",
      "source": [
        "X_test.shape"
      ],
      "metadata": {
        "colab": {
          "base_uri": "https://localhost:8080/"
        },
        "id": "DjLfcZmCIsdT",
        "outputId": "4d30b2ba-e67e-4ab2-a646-47df1e7ef0a5"
      },
      "execution_count": null,
      "outputs": [
        {
          "output_type": "execute_result",
          "data": {
            "text/plain": [
              "(250, 200)"
            ]
          },
          "metadata": {},
          "execution_count": 38
        }
      ]
    },
    {
      "cell_type": "code",
      "source": [
        "y_test = test_y"
      ],
      "metadata": {
        "id": "SSGV10vpIxNQ"
      },
      "execution_count": null,
      "outputs": []
    },
    {
      "cell_type": "code",
      "source": [
        "y_test.shape"
      ],
      "metadata": {
        "colab": {
          "base_uri": "https://localhost:8080/"
        },
        "id": "1MDykXhZI3rG",
        "outputId": "04a6ef5c-e1cf-4c1b-b400-2c393a95eab7"
      },
      "execution_count": null,
      "outputs": [
        {
          "output_type": "execute_result",
          "data": {
            "text/plain": [
              "(250,)"
            ]
          },
          "metadata": {},
          "execution_count": 40
        }
      ]
    },
    {
      "cell_type": "markdown",
      "source": [
        "#Base Model with TF-IDF Vectorizer + PCA"
      ],
      "metadata": {
        "id": "SNK2rwl3I9cT"
      }
    },
    {
      "cell_type": "code",
      "source": [
        "keras.backend.clear_session()\n",
        "embedding_vector_features=256\n",
        "sent_length = 200\n",
        "voc_size = 5000\n",
        "model_with_tfidf = Sequential()\n",
        "model_with_tfidf.add(Embedding(voc_size,embedding_vector_features,input_length=sent_length))\n",
        "model_with_tfidf.add(Bidirectional(LSTM(100)))\n",
        "model_with_tfidf.add(Dense(2,activation='sigmoid'))\n",
        "model_with_tfidf.compile(loss='sparse_categorical_crossentropy',optimizer = tf.keras.optimizers.Adam(learning_rate=0.0001),metrics=['accuracy'])"
      ],
      "metadata": {
        "id": "tm0uyI5gJAsL"
      },
      "execution_count": null,
      "outputs": []
    },
    {
      "cell_type": "code",
      "source": [
        "print(model_with_tfidf.summary())\n",
        "history_tfidf = model_with_tfidf.fit(X_train,y_train,validation_data=(X_val,y_val), epochs=10, batch_size = 16)"
      ],
      "metadata": {
        "colab": {
          "base_uri": "https://localhost:8080/"
        },
        "id": "4fRKRAzJI8DV",
        "outputId": "904534bc-87dc-44cf-f3f7-94256f4c8647"
      },
      "execution_count": null,
      "outputs": [
        {
          "output_type": "stream",
          "name": "stdout",
          "text": [
            "Model: \"sequential\"\n",
            "_________________________________________________________________\n",
            " Layer (type)                Output Shape              Param #   \n",
            "=================================================================\n",
            " embedding (Embedding)       (None, 200, 256)          1280000   \n",
            "                                                                 \n",
            " bidirectional (Bidirectiona  (None, 200)              285600    \n",
            " l)                                                              \n",
            "                                                                 \n",
            " dense (Dense)               (None, 2)                 402       \n",
            "                                                                 \n",
            "=================================================================\n",
            "Total params: 1,566,002\n",
            "Trainable params: 1,566,002\n",
            "Non-trainable params: 0\n",
            "_________________________________________________________________\n",
            "None\n",
            "Epoch 1/10\n",
            "30/30 [==============================] - 5s 74ms/step - loss: 0.6711 - accuracy: 0.6167 - val_loss: 0.6657 - val_accuracy: 0.6167\n",
            "Epoch 2/10\n",
            "30/30 [==============================] - 1s 38ms/step - loss: 0.6660 - accuracy: 0.6208 - val_loss: 0.6663 - val_accuracy: 0.6167\n",
            "Epoch 3/10\n",
            "30/30 [==============================] - 1s 32ms/step - loss: 0.6645 - accuracy: 0.6208 - val_loss: 0.6658 - val_accuracy: 0.6167\n",
            "Epoch 4/10\n",
            "30/30 [==============================] - 1s 27ms/step - loss: 0.6657 - accuracy: 0.6208 - val_loss: 0.6657 - val_accuracy: 0.6167\n",
            "Epoch 5/10\n",
            "30/30 [==============================] - 1s 47ms/step - loss: 0.6667 - accuracy: 0.6208 - val_loss: 0.6662 - val_accuracy: 0.6167\n",
            "Epoch 6/10\n",
            "30/30 [==============================] - 1s 44ms/step - loss: 0.6662 - accuracy: 0.6208 - val_loss: 0.6663 - val_accuracy: 0.6167\n",
            "Epoch 7/10\n",
            "30/30 [==============================] - 1s 40ms/step - loss: 0.6649 - accuracy: 0.6208 - val_loss: 0.6657 - val_accuracy: 0.6167\n",
            "Epoch 8/10\n",
            "30/30 [==============================] - 1s 38ms/step - loss: 0.6639 - accuracy: 0.6208 - val_loss: 0.6657 - val_accuracy: 0.6167\n",
            "Epoch 9/10\n",
            "30/30 [==============================] - 1s 41ms/step - loss: 0.6642 - accuracy: 0.6208 - val_loss: 0.6657 - val_accuracy: 0.6167\n",
            "Epoch 10/10\n",
            "30/30 [==============================] - 1s 27ms/step - loss: 0.6639 - accuracy: 0.6208 - val_loss: 0.6657 - val_accuracy: 0.6167\n"
          ]
        }
      ]
    },
    {
      "cell_type": "code",
      "source": [
        "plt.plot(history_tfidf.history['loss'])\n",
        "plt.plot(history_tfidf.history['val_loss'])\n",
        "plt.title('train loss vs validation loss')\n",
        "plt.ylabel('loss')\n",
        "plt.xlabel('epoch')\n",
        "plt.legend(['train', 'validation'], loc='upper right')\n",
        "plt.show()"
      ],
      "metadata": {
        "colab": {
          "base_uri": "https://localhost:8080/",
          "height": 295
        },
        "id": "IpzmmDrgJe3_",
        "outputId": "cddd4c08-3598-46dc-f141-fdf5556a2371"
      },
      "execution_count": null,
      "outputs": [
        {
          "output_type": "display_data",
          "data": {
            "text/plain": [
              "<Figure size 432x288 with 1 Axes>"
            ],
            "image/png": "[encoded data removed]"
          },
          "metadata": {
            "needs_background": "light"
          }
        }
      ]
    },
    {
      "cell_type": "code",
      "source": [
        " plt.plot(history_tfidf.history['accuracy'])\n",
        " plt.plot(history_tfidf.history['val_accuracy'])\n",
        " plt.title('train accuracy vs validation accuracy')\n",
        " plt.xlabel('epoch')\n",
        " plt.legend(['train', 'validation'], loc='upper right')\n",
        " plt.show() "
      ],
      "metadata": {
        "colab": {
          "base_uri": "https://localhost:8080/",
          "height": 295
        },
        "id": "rk-TGQmfJszB",
        "outputId": "fa968728-2ff4-43f0-f394-76c7d63d96f9"
      },
      "execution_count": null,
      "outputs": [
        {
          "output_type": "display_data",
          "data": {
            "text/plain": [
              "<Figure size 432x288 with 1 Axes>"
            ],
            "image/png": "[encoded data removed]"
          },
          "metadata": {
            "needs_background": "light"
          }
        }
      ]
    },
    {
      "cell_type": "code",
      "execution_count": null,
      "metadata": {
        "colab": {
          "base_uri": "https://localhost:8080/"
        },
        "outputId": "2a4f0d74-b702-4f3b-f161-6d4c9256e0a5",
        "id": "PVqO1uB2J2qR"
      },
      "outputs": [
        {
          "output_type": "stream",
          "name": "stdout",
          "text": [
            "8/8 [==============================] - 1s 14ms/step\n"
          ]
        },
        {
          "output_type": "execute_result",
          "data": {
            "text/plain": [
              "0.636"
            ]
          },
          "metadata": {},
          "execution_count": 53
        }
      ],
      "source": [
        "pred_with_tfidf = model_with_tfidf.predict(X_test).argmax(-1)\n",
        "accuracy_score(y_test,pred_with_tfidf)"
      ]
    },
    {
      "cell_type": "code",
      "execution_count": null,
      "metadata": {
        "colab": {
          "base_uri": "https://localhost:8080/",
          "height": 337
        },
        "outputId": "12af885b-de3e-49bd-cc11-72b9854a16ec",
        "id": "_X3itXO7J2qR"
      },
      "outputs": [
        {
          "output_type": "display_data",
          "data": {
            "text/plain": [
              "<Figure size 432x288 with 2 Axes>"
            ],
            "image/png": "[encoded data removed]"
          },
          "metadata": {
            "needs_background": "light"
          }
        }
      ],
      "source": [
        "ax = sns.heatmap(confusion_matrix(y_test, pred_with_tfidf), annot=True, cmap='Blues')\n",
        "\n",
        "ax.set_title('Confusion Matrix\\n\\n');\n",
        "ax.set_xlabel('\\nPredicted Values')\n",
        "ax.set_ylabel('Actual Values ');\n",
        "plt.show()"
      ]
    },
    {
      "cell_type": "code",
      "execution_count": null,
      "metadata": {
        "colab": {
          "base_uri": "https://localhost:8080/"
        },
        "outputId": "ac093201-9579-4293-ed40-77ab01a1da83",
        "id": "fYTjK9f1J2qS"
      },
      "outputs": [
        {
          "output_type": "stream",
          "name": "stdout",
          "text": [
            "              precision    recall  f1-score   support\n",
            "\n",
            "           0       0.00      0.00      0.00        91\n",
            "           1       0.64      1.00      0.78       159\n",
            "\n",
            "    accuracy                           0.64       250\n",
            "   macro avg       0.32      0.50      0.39       250\n",
            "weighted avg       0.40      0.64      0.49       250\n",
            "\n"
          ]
        },
        {
          "output_type": "stream",
          "name": "stderr",
          "text": [
            "/usr/local/lib/python3.8/dist-packages/sklearn/metrics/_classification.py:1318: UndefinedMetricWarning: Precision and F-score are ill-defined and being set to 0.0 in labels with no predicted samples. Use `zero_division` parameter to control this behavior.\n",
            "  _warn_prf(average, modifier, msg_start, len(result))\n",
            "/usr/local/lib/python3.8/dist-packages/sklearn/metrics/_classification.py:1318: UndefinedMetricWarning: Precision and F-score are ill-defined and being set to 0.0 in labels with no predicted samples. Use `zero_division` parameter to control this behavior.\n",
            "  _warn_prf(average, modifier, msg_start, len(result))\n",
            "/usr/local/lib/python3.8/dist-packages/sklearn/metrics/_classification.py:1318: UndefinedMetricWarning: Precision and F-score are ill-defined and being set to 0.0 in labels with no predicted samples. Use `zero_division` parameter to control this behavior.\n",
            "  _warn_prf(average, modifier, msg_start, len(result))\n"
          ]
        }
      ],
      "source": [
        "print(classification_report(y_test, pred_with_tfidf))"
      ]
    },
    {
      "cell_type": "markdown",
      "source": [
        "#Original Additional Preprocessing"
      ],
      "metadata": {
        "id": "lCf6B7s-LLf9"
      }
    },
    {
      "cell_type": "markdown",
      "source": [
        "##Train Dataset Further Additional Preprocessing"
      ],
      "metadata": {
        "id": "TTXjm1EnKyDh"
      }
    },
    {
      "cell_type": "code",
      "execution_count": null,
      "metadata": {
        "id": "59qzsWbVKyDh"
      },
      "outputs": [],
      "source": [
        "df = pd.read_csv('https://raw.githubusercontent.com/rionaldoalviansa/Deep-Learning/main/preprocessed2.csv')"
      ]
    },
    {
      "cell_type": "code",
      "execution_count": null,
      "metadata": {
        "id": "ATGTX1QDKyDh"
      },
      "outputs": [],
      "source": [
        "label_encoder = preprocessing.LabelEncoder()\n",
        "df['label']= label_encoder.fit_transform(df['tagging'])"
      ]
    },
    {
      "cell_type": "code",
      "execution_count": null,
      "metadata": {
        "colab": {
          "base_uri": "https://localhost:8080/"
        },
        "outputId": "c01deeb9-5e66-4402-d27a-e1adc68283ec",
        "id": "xkfKm-Y8KyDh"
      },
      "outputs": [
        {
          "output_type": "execute_result",
          "data": {
            "text/plain": [
              "0    1\n",
              "1    1\n",
              "2    1\n",
              "3    1\n",
              "4    1\n",
              "Name: label, dtype: int64"
            ]
          },
          "metadata": {},
          "execution_count": 69
        }
      ],
      "source": [
        "df['label'].head()"
      ]
    },
    {
      "cell_type": "code",
      "execution_count": null,
      "metadata": {
        "colab": {
          "base_uri": "https://localhost:8080/"
        },
        "outputId": "c88be4eb-7e4d-4605-af01-e2c4777b1810",
        "id": "cwIETO3FKyDi"
      },
      "outputs": [
        {
          "output_type": "execute_result",
          "data": {
            "text/plain": [
              "0    jakarta jejaring sosial edar informasi sebut l...\n",
              "1    isu ikan lele kandung sel kanker jejaring soci...\n",
              "2    nikmat kuliner bahan dasar ikan lele berita su...\n",
              "3    ikan lele salah makan favorit indonesia harga ...\n",
              "4    ikan lele bahan makan populer indonesia sebar ...\n",
              "Name: stem_str, dtype: object"
            ]
          },
          "metadata": {},
          "execution_count": 70
        }
      ],
      "source": [
        "df['stem_str'].head()"
      ]
    },
    {
      "cell_type": "code",
      "execution_count": null,
      "metadata": {
        "id": "-FPpUZd0KyDi"
      },
      "outputs": [],
      "source": [
        "corpus = []\n",
        "for i in df['stem_str']:\n",
        "  corpus.append(i)"
      ]
    },
    {
      "cell_type": "code",
      "execution_count": null,
      "metadata": {
        "colab": {
          "base_uri": "https://localhost:8080/",
          "height": 113
        },
        "outputId": "d3fbef5b-8da5-42cc-ffdb-7bc7e7f6f1e2",
        "id": "1vCBQmMiKyDi"
      },
      "outputs": [
        {
          "output_type": "execute_result",
          "data": {
            "text/plain": [
              "'jakarta jejaring sosial edar informasi sebut lele ikan jorok suap daging ikan lele kandung 3000 sel kanker juluk ikan jorok rujuk sifat lele doyan konsumsi jenis limbah air artikel viral internet kotor manusia jadi pakan budidaya lele kota haikou china habitat asli lele catfish kenal spesies ikan tangguh ikan lengkap alat napas tambah labirin tahan hidup kondisi air lumpur cemar fakta muncul duga akumulasi racun karsinogen sebab kanker tubuh ikan lele untung ikan lele edar pasar asal alam liar lele dibudidayakan kolam mesti kendali bebas cemar pakan pilih andal limbah popularitas ikan sungut pudar tingkat data menteri laut ikan kkp sebut produksi lele 2013 capai 543 461 ton tingkat 441 217 ton 2012 337 577 ton 2011 konsumsi ikan lele badan pusat statistik bps catat 29 98 kg kapita 22 58 kg kapita 2004 jakarta 6000 lapak pecel lele daftar asosiasi dagang kaki indonesia apkli kandung nutrisi dipungkiri lele sumber protein harga murah riah fakta ikan lele rendah kolesterol tenggelam tuding lele picu kanker  teliti makan lele picu kanker  dr dradjat r suardi spb k onk ahli kanker himpun onkologi indonesia hubung detikhealth jumat 23 10 2015'"
            ],
            "application/vnd.google.colaboratory.intrinsic+json": {
              "type": "string"
            }
          },
          "metadata": {},
          "execution_count": 72
        }
      ],
      "source": [
        "corpus[0]"
      ]
    },
    {
      "cell_type": "code",
      "execution_count": null,
      "metadata": {
        "id": "SqrXF3WxKyDi"
      },
      "outputs": [],
      "source": [
        "max = 0\n",
        "for i in df['stemmed']:\n",
        "  if len(i) > max:\n",
        "    max = len(i)"
      ]
    },
    {
      "cell_type": "code",
      "execution_count": null,
      "metadata": {
        "id": "BtTToGywKyDi"
      },
      "outputs": [],
      "source": [
        "voc_size = 5000\n",
        "onehot_repr=[one_hot(words,voc_size)for words in corpus] "
      ]
    },
    {
      "cell_type": "code",
      "execution_count": null,
      "metadata": {
        "colab": {
          "base_uri": "https://localhost:8080/"
        },
        "outputId": "bb0ce15f-e825-451e-d2c6-829e1d2f4861",
        "id": "xt7eeWbZKyDi"
      },
      "outputs": [
        {
          "output_type": "stream",
          "name": "stdout",
          "text": [
            "[[   0    0    0 ... 3966  920 2334]\n",
            " [2524 2118 1236 ... 1265 2324 4448]\n",
            " [   0    0    0 ... 3835 3561 4732]\n",
            " ...\n",
            " [   0    0    0 ... 1054 1640 1558]\n",
            " [   0    0    0 ... 1922 2715 4465]\n",
            " [   0    0    0 ... 1054 1640 1558]]\n"
          ]
        }
      ],
      "source": [
        "sent_length = 200\n",
        "embedded_docs=pad_sequences(onehot_repr,padding='pre',maxlen=sent_length)\n",
        "print(embedded_docs)"
      ]
    },
    {
      "cell_type": "code",
      "execution_count": null,
      "metadata": {
        "colab": {
          "base_uri": "https://localhost:8080/"
        },
        "outputId": "a16b9136-5890-4b89-96f8-8f519f184ddc",
        "id": "-t_omuQsKyDi"
      },
      "outputs": [
        {
          "output_type": "execute_result",
          "data": {
            "text/plain": [
              "(600, (600,))"
            ]
          },
          "metadata": {},
          "execution_count": 76
        }
      ],
      "source": [
        "len(embedded_docs),df['label'].shape"
      ]
    },
    {
      "cell_type": "code",
      "execution_count": null,
      "metadata": {
        "colab": {
          "base_uri": "https://localhost:8080/"
        },
        "outputId": "bc5ab755-df31-46b1-c7ca-5db600630bb7",
        "id": "ku37e3SsKyDj"
      },
      "outputs": [
        {
          "output_type": "execute_result",
          "data": {
            "text/plain": [
              "array([   0,    0,    0,    0,    0,    0,    0,    0,    0,    0,    0,\n",
              "          0,    0,  214, 3465, 4640, 4090, 1578, 3857, 1721, 4343,  727,\n",
              "       4441,  980, 4343, 1721, 4728, 2884, 4442, 3835, 3880, 4343,  727,\n",
              "       3125, 2789, 1721, 1905, 2899, 3034, 2678, 4073, 1406, 3437, 2118,\n",
              "       1236, 4732, 1156, 3565, 2876, 1721, 1854, 1789, 1697, 1659, 1224,\n",
              "       1721, 4319, 2887, 4764, 4343, 4105, 4343,  929, 4837, 2389, 3749,\n",
              "        838, 4321, 3483, 2934, 4073, 1604, 4897, 3607, 1954,  995, 1326,\n",
              "       1059,  781, 3979, 3835, 3561, 4343, 1721, 2964, 4343, 1721, 4090,\n",
              "       1845,  846, 3067, 4767, 1721,  313, 3169, 3216, 2986, 3506, 4897,\n",
              "       3565,  456, 3847, 2678, 2611, 4343, 4201, 1754, 1548, 4434, 4305,\n",
              "       2335, 4343, 4367, 3857,   24, 1721,  534, 4787, 3723, 3417, 2916,\n",
              "       1548,  686, 4091, 2916, 3387, 3347, 2467, 2916, 4443, 2899, 4343,\n",
              "       1721,  644, 4574, 1218, 4593, 3631, 3936, 1011, 2128, 2419, 4143,\n",
              "       3648, 2128, 2419, 1222,  214,  880, 1271,  406, 1721, 2282, 4305,\n",
              "        149, 2472, 3398, 3412, 4728, 2789, 3035, 1721, 1605,  459,    1,\n",
              "       1436, 4730, 3607, 4343, 1721, 4903, 4334, 3001, 3025, 1721, 2220,\n",
              "       3835, 1093, 3615, 1721, 2220, 3835, 3669, 1073, 3971, 3813,  513,\n",
              "       4859, 2754, 3623, 3835, 4314, 1549, 3398, 1754, 2604, 4829, 3966,\n",
              "        920, 2334], dtype=int32)"
            ]
          },
          "metadata": {},
          "execution_count": 77
        }
      ],
      "source": [
        "embedded_docs[0]"
      ]
    },
    {
      "cell_type": "code",
      "execution_count": null,
      "metadata": {
        "id": "ZnOrfaJLKyDj"
      },
      "outputs": [],
      "source": [
        "X_final=np.array(embedded_docs)\n",
        "y_final=np.array(df['label'])"
      ]
    },
    {
      "cell_type": "code",
      "execution_count": null,
      "metadata": {
        "colab": {
          "base_uri": "https://localhost:8080/"
        },
        "outputId": "c20cdbf0-164b-4637-b1df-763ffc585cdc",
        "id": "7WQeZ6oeKyDj"
      },
      "outputs": [
        {
          "output_type": "execute_result",
          "data": {
            "text/plain": [
              "((600, 200), (600,))"
            ]
          },
          "metadata": {},
          "execution_count": 79
        }
      ],
      "source": [
        "X_final.shape,y_final.shape"
      ]
    },
    {
      "cell_type": "code",
      "execution_count": null,
      "metadata": {
        "id": "nqhg-v81KyDj"
      },
      "outputs": [],
      "source": [
        "X_train, X_val, y_train, y_val = train_test_split(X_final, y_final, test_size=0.2, random_state=28,stratify = y_final)"
      ]
    },
    {
      "cell_type": "code",
      "execution_count": null,
      "metadata": {
        "colab": {
          "base_uri": "https://localhost:8080/"
        },
        "outputId": "eea6b9d4-cac7-41ac-cca6-ca6421f2b1db",
        "id": "4QiQc2myKyDj"
      },
      "outputs": [
        {
          "output_type": "execute_result",
          "data": {
            "text/plain": [
              "(480,)"
            ]
          },
          "metadata": {},
          "execution_count": 81
        }
      ],
      "source": [
        "y_train.shape"
      ]
    },
    {
      "cell_type": "markdown",
      "source": [
        "####Test Dataset Further Additional Preprocessing"
      ],
      "metadata": {
        "id": "49gaKGvaLQiH"
      }
    },
    {
      "cell_type": "code",
      "source": [
        "test_df = pd.read_csv('https://raw.githubusercontent.com/rionaldoalviansa/Deep-Learning/main/preprocessedtest.csv')"
      ],
      "metadata": {
        "id": "P79uncUALTTl"
      },
      "execution_count": null,
      "outputs": []
    },
    {
      "cell_type": "code",
      "source": [
        "label_encoder = preprocessing.LabelEncoder()\n",
        "test_df['label']= label_encoder.fit_transform(test_df['tagging'])"
      ],
      "metadata": {
        "id": "X2pZ4S56LTTl"
      },
      "execution_count": null,
      "outputs": []
    },
    {
      "cell_type": "code",
      "source": [
        "test_corpus = []\n",
        "for i in test_df['stem_str']:\n",
        "  test_corpus.append(i)"
      ],
      "metadata": {
        "id": "-BIrpH6eqiMv"
      },
      "execution_count": null,
      "outputs": []
    },
    {
      "cell_type": "code",
      "source": [
        "max = 0\n",
        "for i in test_df['stemmed']:\n",
        "  if len(i) > max:\n",
        "    max = len(i)"
      ],
      "metadata": {
        "id": "pOQlkAosqlSf"
      },
      "execution_count": null,
      "outputs": []
    },
    {
      "cell_type": "code",
      "source": [
        "voc_size = 5000\n",
        "onehot_repr=[one_hot(words,voc_size)for words in test_corpus] "
      ],
      "metadata": {
        "id": "oGRWqZrgqmoB"
      },
      "execution_count": null,
      "outputs": []
    },
    {
      "cell_type": "code",
      "source": [
        "sent_length = 200\n",
        "embedded_docs=pad_sequences(onehot_repr,padding='pre',maxlen=sent_length)"
      ],
      "metadata": {
        "id": "M2CswnS9qoMr"
      },
      "execution_count": null,
      "outputs": []
    },
    {
      "cell_type": "code",
      "source": [
        "import numpy as np\n",
        "X_test=np.array(embedded_docs)\n",
        "y_test=np.array(test_df['label'])"
      ],
      "metadata": {
        "id": "kaTnhE58qqIZ"
      },
      "execution_count": null,
      "outputs": []
    },
    {
      "cell_type": "markdown",
      "metadata": {
        "id": "oDMinNAMIo2a"
      },
      "source": [
        "#Tuning with Randomized Search from Keras Tuner"
      ]
    },
    {
      "cell_type": "code",
      "execution_count": null,
      "metadata": {
        "colab": {
          "base_uri": "https://localhost:8080/"
        },
        "id": "kyz_pmReKIfO",
        "outputId": "d659b2fe-9429-45a9-a853-58001c22b74f"
      },
      "outputs": [
        {
          "name": "stdout",
          "output_type": "stream",
          "text": [
            "Looking in indexes: https://pypi.org/simple, https://us-python.pkg.dev/colab-wheels/public/simple/\n",
            "Requirement already satisfied: hyperopt in /usr/local/lib/python3.8/dist-packages (0.1.2)\n",
            "Requirement already satisfied: future in /usr/local/lib/python3.8/dist-packages (from hyperopt) (0.16.0)\n",
            "Requirement already satisfied: networkx in /usr/local/lib/python3.8/dist-packages (from hyperopt) (2.8.8)\n",
            "Requirement already satisfied: pymongo in /usr/local/lib/python3.8/dist-packages (from hyperopt) (4.3.3)\n",
            "Requirement already satisfied: six in /usr/local/lib/python3.8/dist-packages (from hyperopt) (1.15.0)\n",
            "Requirement already satisfied: tqdm in /usr/local/lib/python3.8/dist-packages (from hyperopt) (4.64.1)\n",
            "Requirement already satisfied: numpy in /usr/local/lib/python3.8/dist-packages (from hyperopt) (1.21.6)\n",
            "Requirement already satisfied: scipy in /usr/local/lib/python3.8/dist-packages (from hyperopt) (1.7.3)\n",
            "Requirement already satisfied: dnspython<3.0.0,>=1.16.0 in /usr/local/lib/python3.8/dist-packages (from pymongo->hyperopt) (2.2.1)\n"
          ]
        }
      ],
      "source": [
        "pip install hyperopt"
      ]
    },
    {
      "cell_type": "code",
      "execution_count": null,
      "metadata": {
        "id": "oA2CBCP0KfXJ"
      },
      "outputs": [],
      "source": [
        "from hyperopt import hp"
      ]
    },
    {
      "cell_type": "code",
      "execution_count": null,
      "metadata": {
        "colab": {
          "base_uri": "https://localhost:8080/"
        },
        "id": "lMyjV7UbLlZx",
        "outputId": "bb6ff9b2-b3c8-4a3e-91fe-c5b6748f3ec7"
      },
      "outputs": [
        {
          "name": "stdout",
          "output_type": "stream",
          "text": [
            "Looking in indexes: https://pypi.org/simple, https://us-python.pkg.dev/colab-wheels/public/simple/\n",
            "Collecting bayesian-optimization\n",
            "  Downloading bayesian_optimization-1.4.2-py3-none-any.whl (17 kB)\n",
            "Requirement already satisfied: numpy>=1.9.0 in /usr/local/lib/python3.8/dist-packages (from bayesian-optimization) (1.21.6)\n",
            "Requirement already satisfied: scikit-learn>=0.18.0 in /usr/local/lib/python3.8/dist-packages (from bayesian-optimization) (1.0.2)\n",
            "Collecting colorama>=0.4.6\n",
            "  Downloading colorama-0.4.6-py2.py3-none-any.whl (25 kB)\n",
            "Requirement already satisfied: scipy>=1.0.0 in /usr/local/lib/python3.8/dist-packages (from bayesian-optimization) (1.7.3)\n",
            "Requirement already satisfied: threadpoolctl>=2.0.0 in /usr/local/lib/python3.8/dist-packages (from scikit-learn>=0.18.0->bayesian-optimization) (3.1.0)\n",
            "Requirement already satisfied: joblib>=0.11 in /usr/local/lib/python3.8/dist-packages (from scikit-learn>=0.18.0->bayesian-optimization) (1.2.0)\n",
            "Installing collected packages: colorama, bayesian-optimization\n",
            "Successfully installed bayesian-optimization-1.4.2 colorama-0.4.6\n"
          ]
        }
      ],
      "source": [
        "pip install bayesian-optimization"
      ]
    },
    {
      "cell_type": "code",
      "execution_count": null,
      "metadata": {
        "id": "cA-PFoppLoSO"
      },
      "outputs": [],
      "source": [
        "from bayes_opt import BayesianOptimization"
      ]
    },
    {
      "cell_type": "code",
      "execution_count": null,
      "metadata": {
        "id": "BmsJN8KqLtQU"
      },
      "outputs": [],
      "source": [
        "import os"
      ]
    },
    {
      "cell_type": "code",
      "execution_count": null,
      "metadata": {
        "id": "5eoS-oVtUGOF"
      },
      "outputs": [],
      "source": [
        "from tensorflow.keras.layers import BatchNormalization"
      ]
    },
    {
      "cell_type": "code",
      "execution_count": null,
      "metadata": {
        "colab": {
          "base_uri": "https://localhost:8080/"
        },
        "id": "o9jbExpXPkxm",
        "outputId": "ec1243be-f9ce-4a19-aada-0c9ce5fe7e05"
      },
      "outputs": [
        {
          "name": "stdout",
          "output_type": "stream",
          "text": [
            "Looking in indexes: https://pypi.org/simple, https://us-python.pkg.dev/colab-wheels/public/simple/\n",
            "Collecting keras-tuner\n",
            "  Downloading keras_tuner-1.1.3-py3-none-any.whl (135 kB)\n",
            "\u001b[K     |████████████████████████████████| 135 kB 34.2 MB/s \n",
            "\u001b[?25hRequirement already satisfied: tensorboard in /usr/local/lib/python3.8/dist-packages (from keras-tuner) (2.9.1)\n",
            "Requirement already satisfied: numpy in /usr/local/lib/python3.8/dist-packages (from keras-tuner) (1.21.6)\n",
            "Requirement already satisfied: ipython in /usr/local/lib/python3.8/dist-packages (from keras-tuner) (7.9.0)\n",
            "Collecting kt-legacy\n",
            "  Downloading kt_legacy-1.0.4-py3-none-any.whl (9.6 kB)\n",
            "Requirement already satisfied: requests in /usr/local/lib/python3.8/dist-packages (from keras-tuner) (2.23.0)\n",
            "Requirement already satisfied: packaging in /usr/local/lib/python3.8/dist-packages (from keras-tuner) (21.3)\n",
            "Collecting jedi>=0.10\n",
            "  Downloading jedi-0.18.2-py2.py3-none-any.whl (1.6 MB)\n",
            "\u001b[K     |████████████████████████████████| 1.6 MB 45.0 MB/s \n",
            "\u001b[?25hRequirement already satisfied: decorator in /usr/local/lib/python3.8/dist-packages (from ipython->keras-tuner) (4.4.2)\n",
            "Requirement already satisfied: pexpect in /usr/local/lib/python3.8/dist-packages (from ipython->keras-tuner) (4.8.0)\n",
            "Requirement already satisfied: pygments in /usr/local/lib/python3.8/dist-packages (from ipython->keras-tuner) (2.6.1)\n",
            "Requirement already satisfied: traitlets>=4.2 in /usr/local/lib/python3.8/dist-packages (from ipython->keras-tuner) (5.7.1)\n",
            "Requirement already satisfied: prompt-toolkit<2.1.0,>=2.0.0 in /usr/local/lib/python3.8/dist-packages (from ipython->keras-tuner) (2.0.10)\n",
            "Requirement already satisfied: pickleshare in /usr/local/lib/python3.8/dist-packages (from ipython->keras-tuner) (0.7.5)\n",
            "Requirement already satisfied: setuptools>=18.5 in /usr/local/lib/python3.8/dist-packages (from ipython->keras-tuner) (57.4.0)\n",
            "Requirement already satisfied: backcall in /usr/local/lib/python3.8/dist-packages (from ipython->keras-tuner) (0.2.0)\n",
            "Requirement already satisfied: parso<0.9.0,>=0.8.0 in /usr/local/lib/python3.8/dist-packages (from jedi>=0.10->ipython->keras-tuner) (0.8.3)\n",
            "Requirement already satisfied: six>=1.9.0 in /usr/local/lib/python3.8/dist-packages (from prompt-toolkit<2.1.0,>=2.0.0->ipython->keras-tuner) (1.15.0)\n",
            "Requirement already satisfied: wcwidth in /usr/local/lib/python3.8/dist-packages (from prompt-toolkit<2.1.0,>=2.0.0->ipython->keras-tuner) (0.2.5)\n",
            "Requirement already satisfied: pyparsing!=3.0.5,>=2.0.2 in /usr/local/lib/python3.8/dist-packages (from packaging->keras-tuner) (3.0.9)\n",
            "Requirement already satisfied: ptyprocess>=0.5 in /usr/local/lib/python3.8/dist-packages (from pexpect->ipython->keras-tuner) (0.7.0)\n",
            "Requirement already satisfied: chardet<4,>=3.0.2 in /usr/local/lib/python3.8/dist-packages (from requests->keras-tuner) (3.0.4)\n",
            "Requirement already satisfied: certifi>=2017.4.17 in /usr/local/lib/python3.8/dist-packages (from requests->keras-tuner) (2022.12.7)\n",
            "Requirement already satisfied: idna<3,>=2.5 in /usr/local/lib/python3.8/dist-packages (from requests->keras-tuner) (2.10)\n",
            "Requirement already satisfied: urllib3!=1.25.0,!=1.25.1,<1.26,>=1.21.1 in /usr/local/lib/python3.8/dist-packages (from requests->keras-tuner) (1.24.3)\n",
            "Requirement already satisfied: wheel>=0.26 in /usr/local/lib/python3.8/dist-packages (from tensorboard->keras-tuner) (0.38.4)\n",
            "Requirement already satisfied: google-auth<3,>=1.6.3 in /usr/local/lib/python3.8/dist-packages (from tensorboard->keras-tuner) (2.15.0)\n",
            "Requirement already satisfied: protobuf<3.20,>=3.9.2 in /usr/local/lib/python3.8/dist-packages (from tensorboard->keras-tuner) (3.19.6)\n",
            "Requirement already satisfied: absl-py>=0.4 in /usr/local/lib/python3.8/dist-packages (from tensorboard->keras-tuner) (1.3.0)\n",
            "Requirement already satisfied: tensorboard-data-server<0.7.0,>=0.6.0 in /usr/local/lib/python3.8/dist-packages (from tensorboard->keras-tuner) (0.6.1)\n",
            "Requirement already satisfied: tensorboard-plugin-wit>=1.6.0 in /usr/local/lib/python3.8/dist-packages (from tensorboard->keras-tuner) (1.8.1)\n",
            "Requirement already satisfied: werkzeug>=1.0.1 in /usr/local/lib/python3.8/dist-packages (from tensorboard->keras-tuner) (1.0.1)\n",
            "Requirement already satisfied: markdown>=2.6.8 in /usr/local/lib/python3.8/dist-packages (from tensorboard->keras-tuner) (3.4.1)\n",
            "Requirement already satisfied: google-auth-oauthlib<0.5,>=0.4.1 in /usr/local/lib/python3.8/dist-packages (from tensorboard->keras-tuner) (0.4.6)\n",
            "Requirement already satisfied: grpcio>=1.24.3 in /usr/local/lib/python3.8/dist-packages (from tensorboard->keras-tuner) (1.51.1)\n",
            "Requirement already satisfied: pyasn1-modules>=0.2.1 in /usr/local/lib/python3.8/dist-packages (from google-auth<3,>=1.6.3->tensorboard->keras-tuner) (0.2.8)\n",
            "Requirement already satisfied: rsa<5,>=3.1.4 in /usr/local/lib/python3.8/dist-packages (from google-auth<3,>=1.6.3->tensorboard->keras-tuner) (4.9)\n",
            "Requirement already satisfied: cachetools<6.0,>=2.0.0 in /usr/local/lib/python3.8/dist-packages (from google-auth<3,>=1.6.3->tensorboard->keras-tuner) (5.2.0)\n",
            "Requirement already satisfied: requests-oauthlib>=0.7.0 in /usr/local/lib/python3.8/dist-packages (from google-auth-oauthlib<0.5,>=0.4.1->tensorboard->keras-tuner) (1.3.1)\n",
            "Requirement already satisfied: importlib-metadata>=4.4 in /usr/local/lib/python3.8/dist-packages (from markdown>=2.6.8->tensorboard->keras-tuner) (5.1.0)\n",
            "Requirement already satisfied: zipp>=0.5 in /usr/local/lib/python3.8/dist-packages (from importlib-metadata>=4.4->markdown>=2.6.8->tensorboard->keras-tuner) (3.11.0)\n",
            "Requirement already satisfied: pyasn1<0.5.0,>=0.4.6 in /usr/local/lib/python3.8/dist-packages (from pyasn1-modules>=0.2.1->google-auth<3,>=1.6.3->tensorboard->keras-tuner) (0.4.8)\n",
            "Requirement already satisfied: oauthlib>=3.0.0 in /usr/local/lib/python3.8/dist-packages (from requests-oauthlib>=0.7.0->google-auth-oauthlib<0.5,>=0.4.1->tensorboard->keras-tuner) (3.2.2)\n",
            "Installing collected packages: jedi, kt-legacy, keras-tuner\n",
            "Successfully installed jedi-0.18.2 keras-tuner-1.1.3 kt-legacy-1.0.4\n"
          ]
        }
      ],
      "source": [
        "pip install keras-tuner --upgrade"
      ]
    },
    {
      "cell_type": "code",
      "execution_count": null,
      "metadata": {
        "id": "RFtlUtdInBkD"
      },
      "outputs": [],
      "source": [
        "from hyperopt import Trials, STATUS_OK, tpe, hp, fmin\n",
        "import warnings"
      ]
    },
    {
      "cell_type": "code",
      "execution_count": null,
      "metadata": {
        "id": "-OwPFMx5POv8"
      },
      "outputs": [],
      "source": [
        "# embedding_vector_features=512\n",
        "def build_model(hp):\n",
        "  model = keras.Sequential()\n",
        "  model.add(Embedding(voc_size,hp.Choice('evf_layer', [64, 128, 256,512]),input_length=sent_length))\n",
        "  model.add(Bidirectional(LSTM(hp.Choice('bi-lstm', [64, 128, 256,512]))))\n",
        "  model.add(keras.layers.Dropout(hp.Choice('dropout_units', [0.3, 0.2, 0.1, 0.5])))\n",
        "  for i in range(hp.Choice('dense_total', range(1,5))):\n",
        "      model.add(keras.layers.Dense(hp.Choice('units', [64, 128, 256, 512]), activation='relu'))\n",
        "  model.add(keras.layers.Dense(2, activation='sigmoid'))\n",
        "  model.compile(loss='sparse_categorical_crossentropy',optimizer='adam',metrics=['accuracy'])\n",
        "  return model"
      ]
    },
    {
      "cell_type": "code",
      "execution_count": null,
      "metadata": {
        "colab": {
          "base_uri": "https://localhost:8080/"
        },
        "id": "jCm2fdT2PhX7",
        "outputId": "fd51a4e1-f703-4ca7-dbc3-672b5e322bf5"
      },
      "outputs": [
        {
          "name": "stderr",
          "output_type": "stream",
          "text": [
            "<ipython-input-43-298be334fb07>:2: DeprecationWarning: `import kerastuner` is deprecated, please use `import keras_tuner`.\n",
            "  import kerastuner as kt\n"
          ]
        }
      ],
      "source": [
        "import keras_tuner\n",
        "import kerastuner as kt"
      ]
    },
    {
      "cell_type": "code",
      "execution_count": null,
      "metadata": {
        "id": "YsVSkiohPgvz"
      },
      "outputs": [],
      "source": [
        "hp = kt.HyperParameters()\n",
        "hp.Choice('learning_rate', [1e-2, 1e-3, 1e-4])\n",
        "\n",
        "tuner = keras_tuner.RandomSearch(\n",
        "    build_model,\n",
        "    objective='val_accuracy',\n",
        "    hyperparameters=hp,\n",
        "    max_trials=128)"
      ]
    },
    {
      "cell_type": "code",
      "execution_count": null,
      "metadata": {
        "colab": {
          "base_uri": "https://localhost:8080/"
        },
        "id": "q_SDa7GQPoGd",
        "outputId": "c0467591-4832-4921-8caf-121a25754482"
      },
      "outputs": [
        {
          "name": "stdout",
          "output_type": "stream",
          "text": [
            "Trial 128 Complete [00h 00m 22s]\n",
            "val_accuracy: 0.7416666746139526\n",
            "\n",
            "Best val_accuracy So Far: 0.800000011920929\n",
            "Total elapsed time: 00h 29m 41s\n"
          ]
        }
      ],
      "source": [
        "tuning_attempt = tuner.search(X_train, y_train, epochs=10, validation_data=(X_val, y_val), batch_size = 16)"
      ]
    },
    {
      "cell_type": "code",
      "execution_count": null,
      "metadata": {
        "id": "F-VPKsBWUl69"
      },
      "outputs": [],
      "source": [
        "best_model = tuner.get_best_models()[0]"
      ]
    },
    {
      "cell_type": "code",
      "execution_count": null,
      "metadata": {
        "colab": {
          "base_uri": "https://localhost:8080/"
        },
        "id": "gT-yuJVfhBlq",
        "outputId": "2a2dca7f-cb3b-4ab5-babe-d5f4270404a1"
      },
      "outputs": [
        {
          "name": "stdout",
          "output_type": "stream",
          "text": [
            "Model: \"sequential\"\n",
            "_________________________________________________________________\n",
            " Layer (type)                Output Shape              Param #   \n",
            "=================================================================\n",
            " embedding (Embedding)       (None, 200, 128)          640000    \n",
            "                                                                 \n",
            " bidirectional (Bidirectiona  (None, 128)              98816     \n",
            " l)                                                              \n",
            "                                                                 \n",
            " dropout (Dropout)           (None, 128)               0         \n",
            "                                                                 \n",
            " dense (Dense)               (None, 128)               16512     \n",
            "                                                                 \n",
            " dense_1 (Dense)             (None, 128)               16512     \n",
            "                                                                 \n",
            " dense_2 (Dense)             (None, 2)                 258       \n",
            "                                                                 \n",
            "=================================================================\n",
            "Total params: 772,098\n",
            "Trainable params: 772,098\n",
            "Non-trainable params: 0\n",
            "_________________________________________________________________\n",
            "None\n"
          ]
        }
      ],
      "source": [
        "print(best_model.summary())"
      ]
    },
    {
      "cell_type": "markdown",
      "metadata": {
        "id": "0f82IiTGPNsO"
      },
      "source": [
        "#Final Model"
      ]
    },
    {
      "cell_type": "code",
      "execution_count": null,
      "metadata": {
        "id": "N2vOEjkaOamO"
      },
      "outputs": [],
      "source": [
        "keras.backend.clear_session()\n",
        "final_model = keras.Sequential()\n",
        "final_model.add(Embedding(voc_size,128,input_length=sent_length))\n",
        "final_model.add(Bidirectional(LSTM(64)))\n",
        "final_model.add(keras.layers.Dropout(0.5))\n",
        "final_model.add(keras.layers.Dense(128, activation='relu'))\n",
        "final_model.add(keras.layers.Dense(128, activation='relu'))\n",
        "final_model.add(keras.layers.Dense(2, activation='sigmoid'))\n",
        "final_model.compile(loss='sparse_categorical_crossentropy',optimizer='adam',metrics=['accuracy'])"
      ]
    },
    {
      "cell_type": "code",
      "execution_count": null,
      "metadata": {
        "colab": {
          "base_uri": "https://localhost:8080/"
        },
        "id": "7l1l_iXlO8TZ",
        "outputId": "0676f72e-a438-455f-ef49-9bb7c8263bf9"
      },
      "outputs": [
        {
          "name": "stdout",
          "output_type": "stream",
          "text": [
            "Model: \"sequential\"\n",
            "_________________________________________________________________\n",
            " Layer (type)                Output Shape              Param #   \n",
            "=================================================================\n",
            " embedding (Embedding)       (None, 200, 128)          640000    \n",
            "                                                                 \n",
            " bidirectional (Bidirectiona  (None, 128)              98816     \n",
            " l)                                                              \n",
            "                                                                 \n",
            " dropout (Dropout)           (None, 128)               0         \n",
            "                                                                 \n",
            " dense (Dense)               (None, 128)               16512     \n",
            "                                                                 \n",
            " dense_1 (Dense)             (None, 128)               16512     \n",
            "                                                                 \n",
            " dense_2 (Dense)             (None, 2)                 258       \n",
            "                                                                 \n",
            "=================================================================\n",
            "Total params: 772,098\n",
            "Trainable params: 772,098\n",
            "Non-trainable params: 0\n",
            "_________________________________________________________________\n",
            "None\n"
          ]
        }
      ],
      "source": [
        "print(final_model.summary())"
      ]
    },
    {
      "cell_type": "code",
      "execution_count": null,
      "metadata": {
        "colab": {
          "base_uri": "https://localhost:8080/"
        },
        "id": "KkzO8gIkPCQO",
        "outputId": "7cb7fa2a-c9bd-43f2-dd0a-9a15511795a8"
      },
      "outputs": [
        {
          "name": "stdout",
          "output_type": "stream",
          "text": [
            "Epoch 1/10\n",
            "30/30 [==============================] - 5s 67ms/step - loss: 0.6743 - accuracy: 0.5979 - val_loss: 0.6441 - val_accuracy: 0.6167\n",
            "Epoch 2/10\n",
            "30/30 [==============================] - 1s 21ms/step - loss: 0.5974 - accuracy: 0.6542 - val_loss: 0.5293 - val_accuracy: 0.7417\n",
            "Epoch 3/10\n",
            "30/30 [==============================] - 1s 21ms/step - loss: 0.3948 - accuracy: 0.8667 - val_loss: 0.4863 - val_accuracy: 0.8000\n",
            "Epoch 4/10\n",
            "30/30 [==============================] - 1s 21ms/step - loss: 0.2011 - accuracy: 0.9333 - val_loss: 0.7767 - val_accuracy: 0.7333\n",
            "Epoch 5/10\n",
            "30/30 [==============================] - 1s 21ms/step - loss: 0.1375 - accuracy: 0.9438 - val_loss: 0.6929 - val_accuracy: 0.7417\n",
            "Epoch 6/10\n",
            "30/30 [==============================] - 1s 21ms/step - loss: 0.1238 - accuracy: 0.9542 - val_loss: 0.6921 - val_accuracy: 0.7250\n",
            "Epoch 7/10\n",
            "30/30 [==============================] - 1s 22ms/step - loss: 0.1229 - accuracy: 0.9521 - val_loss: 0.6799 - val_accuracy: 0.7333\n",
            "Epoch 8/10\n",
            "30/30 [==============================] - 1s 21ms/step - loss: 0.0843 - accuracy: 0.9542 - val_loss: 0.8814 - val_accuracy: 0.7167\n",
            "Epoch 9/10\n",
            "30/30 [==============================] - 1s 20ms/step - loss: 0.0731 - accuracy: 0.9646 - val_loss: 0.8584 - val_accuracy: 0.7250\n",
            "Epoch 10/10\n",
            "30/30 [==============================] - 1s 22ms/step - loss: 0.0811 - accuracy: 0.9625 - val_loss: 0.8896 - val_accuracy: 0.7167\n"
          ]
        }
      ],
      "source": [
        "final_history = final_model.fit(X_train,y_train,validation_data=(X_val,y_val), epochs=10, batch_size = 16)"
      ]
    },
    {
      "cell_type": "code",
      "execution_count": null,
      "metadata": {
        "colab": {
          "base_uri": "https://localhost:8080/",
          "height": 295
        },
        "id": "CVPhSCx1bZxB",
        "outputId": "c0c99302-b0a6-43b2-c990-f6de12d3cdf8"
      },
      "outputs": [
        {
          "data": {
            "image/png": "[encoded data removed]",
            "text/plain": [
              "<Figure size 432x288 with 1 Axes>"
            ]
          },
          "metadata": {},
          "output_type": "display_data"
        }
      ],
      "source": [
        "plt.plot(final_history.history['loss'])\n",
        "plt.plot(final_history.history['val_loss'])\n",
        "plt.title('model train vs validation loss')\n",
        "plt.ylabel('loss')\n",
        "plt.xlabel('epoch')\n",
        "plt.legend(['train', 'validation'], loc='upper right')\n",
        "plt.show()"
      ]
    },
    {
      "cell_type": "code",
      "execution_count": null,
      "metadata": {
        "colab": {
          "base_uri": "https://localhost:8080/",
          "height": 295
        },
        "id": "iubjZjK7bZxB",
        "outputId": "38d26108-39e0-42f8-d8dd-44389da1748d"
      },
      "outputs": [
        {
          "data": {
            "image/png": "[encoded data removed]",
            "text/plain": [
              "<Figure size 432x288 with 1 Axes>"
            ]
          },
          "metadata": {},
          "output_type": "display_data"
        }
      ],
      "source": [
        " plt.plot(final_history.history['accuracy'])\n",
        " plt.plot(final_history.history['val_accuracy'])\n",
        " plt.title('model loss vs accuracy')\n",
        " plt.xlabel('epoch')\n",
        " plt.legend(['loss', 'accuracy'], loc='upper right')\n",
        " plt.show() "
      ]
    },
    {
      "cell_type": "markdown",
      "source": [
        ">Graph di atas ada salah title Pak, harusnya train accuracy vs validation accuracy"
      ],
      "metadata": {
        "id": "Hu5W23ojgDpl"
      }
    },
    {
      "cell_type": "code",
      "execution_count": null,
      "metadata": {
        "colab": {
          "base_uri": "https://localhost:8080/"
        },
        "id": "qCOfWKvpbrcT",
        "outputId": "cdab77bb-f8dc-494d-eff4-a0342c2bc386"
      },
      "outputs": [
        {
          "name": "stdout",
          "output_type": "stream",
          "text": [
            "8/8 [==============================] - 1s 9ms/step\n"
          ]
        },
        {
          "data": {
            "text/plain": [
              "0.928"
            ]
          },
          "execution_count": 957,
          "metadata": {},
          "output_type": "execute_result"
        }
      ],
      "source": [
        "final_pred = final_model.predict(X_test).argmax(-1)\n",
        "accuracy_score(y_test,final_pred)"
      ]
    },
    {
      "cell_type": "code",
      "execution_count": null,
      "metadata": {
        "colab": {
          "base_uri": "https://localhost:8080/",
          "height": 337
        },
        "id": "pV-THks7d_tq",
        "outputId": "882fea4e-36d0-41c8-bfe6-779bceeaa523"
      },
      "outputs": [
        {
          "data": {
            "image/png": "[encoded data removed]",
            "text/plain": [
              "<Figure size 432x288 with 2 Axes>"
            ]
          },
          "metadata": {},
          "output_type": "display_data"
        }
      ],
      "source": [
        "ax = sns.heatmap(confusion_matrix(y_test, final_pred), annot=True, cmap='Blues')\n",
        "\n",
        "ax.set_title('Confusion Matrix\\n\\n');\n",
        "ax.set_xlabel('\\nPredicted Values')\n",
        "ax.set_ylabel('Actual Values ');\n",
        "plt.show()"
      ]
    },
    {
      "cell_type": "code",
      "execution_count": null,
      "metadata": {
        "colab": {
          "base_uri": "https://localhost:8080/"
        },
        "id": "APlPCyRsd_tr",
        "outputId": "63418c9f-609c-4566-9dbb-d8e3b476ab8c"
      },
      "outputs": [
        {
          "name": "stdout",
          "output_type": "stream",
          "text": [
            "              precision    recall  f1-score   support\n",
            "\n",
            "           0       0.92      0.88      0.90        91\n",
            "           1       0.93      0.96      0.94       159\n",
            "\n",
            "    accuracy                           0.93       250\n",
            "   macro avg       0.93      0.92      0.92       250\n",
            "weighted avg       0.93      0.93      0.93       250\n",
            "\n"
          ]
        }
      ],
      "source": [
        "print(classification_report(y_test, final_pred))"
      ]
    }
  ],
  "metadata": {
    "accelerator": "GPU",
    "colab": {
      "provenance": []
    },
    "gpuClass": "standard",
    "kernelspec": {
      "display_name": "Python 3",
      "name": "python3"
    },
    "language_info": {
      "name": "python"
    }
  },
  "nbformat": 4,
  "nbformat_minor": 0
}