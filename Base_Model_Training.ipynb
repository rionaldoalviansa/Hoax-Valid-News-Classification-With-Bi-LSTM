{
  "nbformat": 4,
  "nbformat_minor": 0,
  "metadata": {
    "colab": {
      "provenance": []
    },
    "kernelspec": {
      "name": "python3",
      "display_name": "Python 3"
    },
    "language_info": {
      "name": "python"
    },
    "accelerator": "GPU",
    "gpuClass": "standard"
  },
  "cells": [
    {
      "cell_type": "code",
      "execution_count": null,
      "metadata": {
        "id": "K50wUn_LG_6a"
      },
      "outputs": [],
      "source": [
        "import pandas as pd\n",
        "import numpy as np\n",
        "import re \n",
        "import nltk \n",
        "from sklearn.pipeline import Pipeline\n",
        "from sklearn.feature_extraction.text import CountVectorizer, TfidfVectorizer\n",
        "from sklearn.linear_model import LogisticRegression\n",
        "from sklearn.model_selection import train_test_split, cross_val_score, KFold\n",
        "\n",
        "from nltk.corpus import stopwords\n",
        "from tqdm import tqdm\n",
        "from nltk.stem import WordNetLemmatizer\n",
        "from wordcloud import WordCloud\n",
        "import matplotlib.pyplot as plt\n",
        "import numpy as np\n",
        "from PIL import Image\n",
        "from sklearn.feature_extraction.text import CountVectorizer\n",
        "from sklearn import preprocessing\n",
        "\n",
        "from tensorflow.keras.layers import Embedding\n",
        "from tensorflow.keras.preprocessing.sequence import pad_sequences\n",
        "from tensorflow.keras.models import Sequential\n",
        "from tensorflow.keras.preprocessing.text import one_hot\n",
        "from tensorflow.keras.layers import LSTM\n",
        "from tensorflow.keras.layers import Dense\n",
        "from tensorflow.keras.layers import Bidirectional\n",
        "from tensorflow.keras.layers import Dropout\n",
        "\n",
        "import tensorflow as tf\n",
        "from tensorflow import keras\n",
        "\n",
        "from sklearn.metrics import confusion_matrix\n",
        "from sklearn.metrics import accuracy_score\n",
        "from sklearn.metrics import classification_report"
      ]
    },
    {
      "cell_type": "code",
      "source": [
        "# df = pd.read_csv('/content/preprocessed2.csv')"
      ],
      "metadata": {
        "id": "MfQdi442giOY"
      },
      "execution_count": null,
      "outputs": []
    },
    {
      "cell_type": "code",
      "source": [
        "df = pd.read_csv('https://raw.githubusercontent.com/rionaldoalviansa/Deep-Learning/main/preprocessed2.csv')"
      ],
      "metadata": {
        "id": "P9y6oJc2gNwo"
      },
      "execution_count": null,
      "outputs": []
    },
    {
      "cell_type": "code",
      "source": [
        "label_encoder = preprocessing.LabelEncoder()\n",
        "df['label']= label_encoder.fit_transform(df['tagging'])"
      ],
      "metadata": {
        "id": "RT0uD1Mfj161"
      },
      "execution_count": null,
      "outputs": []
    },
    {
      "cell_type": "code",
      "source": [
        "df['label'].head()"
      ],
      "metadata": {
        "id": "c9cYrLo6qB1D",
        "colab": {
          "base_uri": "https://localhost:8080/"
        },
        "outputId": "92ebe83c-2bc7-4254-b7c3-df8a379779dc"
      },
      "execution_count": null,
      "outputs": [
        {
          "output_type": "execute_result",
          "data": {
            "text/plain": [
              "0    1\n",
              "1    1\n",
              "2    1\n",
              "3    1\n",
              "4    1\n",
              "Name: label, dtype: int64"
            ]
          },
          "metadata": {},
          "execution_count": 5
        }
      ]
    },
    {
      "cell_type": "code",
      "source": [
        "df['stem_str'].head()"
      ],
      "metadata": {
        "colab": {
          "base_uri": "https://localhost:8080/"
        },
        "id": "UQkos_wIhJR2",
        "outputId": "000cfb0d-0bca-4296-c99e-1682b26196ff"
      },
      "execution_count": null,
      "outputs": [
        {
          "output_type": "execute_result",
          "data": {
            "text/plain": [
              "0    jakarta jejaring sosial edar informasi sebut l...\n",
              "1    isu ikan lele kandung sel kanker jejaring soci...\n",
              "2    nikmat kuliner bahan dasar ikan lele berita su...\n",
              "3    ikan lele salah makan favorit indonesia harga ...\n",
              "4    ikan lele bahan makan populer indonesia sebar ...\n",
              "Name: stem_str, dtype: object"
            ]
          },
          "metadata": {},
          "execution_count": 6
        }
      ]
    },
    {
      "cell_type": "code",
      "source": [
        "corpus = []\n",
        "for i in df['stem_str']:\n",
        "  corpus.append(i)"
      ],
      "metadata": {
        "id": "KiOKJoB7gyVy"
      },
      "execution_count": null,
      "outputs": []
    },
    {
      "cell_type": "code",
      "source": [
        "corpus[0]"
      ],
      "metadata": {
        "colab": {
          "base_uri": "https://localhost:8080/",
          "height": 146
        },
        "id": "jv5gG-qfhX81",
        "outputId": "551c2076-c748-4c15-ea99-ab51f9f64af9"
      },
      "execution_count": null,
      "outputs": [
        {
          "output_type": "execute_result",
          "data": {
            "text/plain": [
              "'jakarta jejaring sosial edar informasi sebut lele ikan jorok suap daging ikan lele kandung 3000 sel kanker juluk ikan jorok rujuk sifat lele doyan konsumsi jenis limbah air artikel viral internet kotor manusia jadi pakan budidaya lele kota haikou china habitat asli lele catfish kenal spesies ikan tangguh ikan lengkap alat napas tambah labirin tahan hidup kondisi air lumpur cemar fakta muncul duga akumulasi racun karsinogen sebab kanker tubuh ikan lele untung ikan lele edar pasar asal alam liar lele dibudidayakan kolam mesti kendali bebas cemar pakan pilih andal limbah popularitas ikan sungut pudar tingkat data menteri laut ikan kkp sebut produksi lele 2013 capai 543 461 ton tingkat 441 217 ton 2012 337 577 ton 2011 konsumsi ikan lele badan pusat statistik bps catat 29 98 kg kapita 22 58 kg kapita 2004 jakarta 6000 lapak pecel lele daftar asosiasi dagang kaki indonesia apkli kandung nutrisi dipungkiri lele sumber protein harga murah riah fakta ikan lele rendah kolesterol tenggelam tuding lele picu kanker  teliti makan lele picu kanker  dr dradjat r suardi spb k onk ahli kanker himpun onkologi indonesia hubung detikhealth jumat 23 10 2015'"
            ],
            "application/vnd.google.colaboratory.intrinsic+json": {
              "type": "string"
            }
          },
          "metadata": {},
          "execution_count": 8
        }
      ]
    },
    {
      "cell_type": "code",
      "source": [
        "max = 0\n",
        "for i in df['stemmed']:\n",
        "  if len(i) > max:\n",
        "    max = len(i)"
      ],
      "metadata": {
        "id": "URjC3_UwiKrC"
      },
      "execution_count": null,
      "outputs": []
    },
    {
      "cell_type": "code",
      "source": [
        "voc_size = 5000\n",
        "onehot_repr=[one_hot(words,voc_size)for words in corpus] "
      ],
      "metadata": {
        "id": "7kIuj-f4hocT"
      },
      "execution_count": null,
      "outputs": []
    },
    {
      "cell_type": "code",
      "source": [
        "sent_length = 200\n",
        "embedded_docs=pad_sequences(onehot_repr,padding='pre',maxlen=sent_length)\n",
        "print(embedded_docs)"
      ],
      "metadata": {
        "colab": {
          "base_uri": "https://localhost:8080/"
        },
        "id": "lub73b-fig-y",
        "outputId": "0ca66203-8dff-47ed-d3ad-9cb32cc61b9e"
      },
      "execution_count": null,
      "outputs": [
        {
          "output_type": "stream",
          "name": "stdout",
          "text": [
            "[[   0    0    0 ... 3279  571 4088]\n",
            " [2370 1110 3424 ... 3864 4407 3367]\n",
            " [   0    0    0 ...  475 2854 2426]\n",
            " ...\n",
            " [   0    0    0 ... 4162  811 3521]\n",
            " [   0    0    0 ...   16 4300 1449]\n",
            " [   0    0    0 ... 4162  811 3521]]\n"
          ]
        }
      ]
    },
    {
      "cell_type": "code",
      "source": [
        "len(embedded_docs),df['label'].shape"
      ],
      "metadata": {
        "colab": {
          "base_uri": "https://localhost:8080/"
        },
        "id": "cDgluZ1Eio0h",
        "outputId": "5db75780-add7-4aad-cda0-0e72a9761e4c"
      },
      "execution_count": null,
      "outputs": [
        {
          "output_type": "execute_result",
          "data": {
            "text/plain": [
              "(600, (600,))"
            ]
          },
          "metadata": {},
          "execution_count": 12
        }
      ]
    },
    {
      "cell_type": "code",
      "source": [
        "embedded_docs[0]"
      ],
      "metadata": {
        "colab": {
          "base_uri": "https://localhost:8080/"
        },
        "id": "uLvn1Fw7mj4Y",
        "outputId": "640ae691-94e4-4935-dfc4-79a4d6573d1e"
      },
      "execution_count": null,
      "outputs": [
        {
          "output_type": "execute_result",
          "data": {
            "text/plain": [
              "array([   0,    0,    0,    0,    0,    0,    0,    0,    0,    0,    0,\n",
              "          0,    0, 1936, 3894, 1619, 3656,  529, 1641,  548, 1358, 2424,\n",
              "       2914, 2902, 1358,  548,  268, 2045,  591,  475,  243, 1358, 2424,\n",
              "       1736,  101,  548,  541, 1712, 1084, 1476, 2852,  298, 2393, 1110,\n",
              "       3424, 2426,  480, 3414,  368,  548, 4804, 2040, 3107, 3531, 4768,\n",
              "        548, 1498, 4727, 4839, 1358, 1297, 1358,  586, 2598, 2262,  264,\n",
              "       3223, 3085, 3936, 2432, 2852, 4244,  281, 2033, 3878, 1105, 1602,\n",
              "       2547, 4221, 3727,  475, 2854, 1358,  548, 2180, 1358,  548, 3656,\n",
              "       1643, 2544, 2520,  330,  548, 3451,  759, 2472, 1119,  250,  281,\n",
              "       3414, 1024, 2987, 1476, 2963, 1358,  739, 2074, 1703,  989, 1959,\n",
              "       3501, 1358, 2728, 1641, 1600,  548, 1824, 3811, 1210,  548, 1028,\n",
              "       1703, 1472, 1929, 1028, 2789, 2437, 3139, 1028,  942, 1712, 1358,\n",
              "        548,  657, 4270, 3564, 1783,  438,  534, 2298, 4825, 2897, 4355,\n",
              "       2895, 4825, 2897, 2966, 1936,   84, 3136,  707,  548, 4378, 4318,\n",
              "        191,  991, 1759, 1487,  268, 1301, 1017,  548,  154, 2484, 1555,\n",
              "        491, 4791, 2033, 1358,  548, 4216, 3289, 3616, 1341,  548, 1629,\n",
              "        475,   61, 4110,  548, 1629,  475, 2685, 3334, 4804, 1424, 1421,\n",
              "       3286,  108, 3747,  475, 1408,   74, 1759,  739,  222, 4414, 3279,\n",
              "        571, 4088], dtype=int32)"
            ]
          },
          "metadata": {},
          "execution_count": 13
        }
      ]
    },
    {
      "cell_type": "code",
      "source": [
        "X_final=np.array(embedded_docs)\n",
        "y_final=np.array(df['label'])"
      ],
      "metadata": {
        "id": "dGoz-9CHHIUt"
      },
      "execution_count": null,
      "outputs": []
    },
    {
      "cell_type": "code",
      "source": [
        "X_final.shape,y_final.shape"
      ],
      "metadata": {
        "colab": {
          "base_uri": "https://localhost:8080/"
        },
        "id": "4Df9Xk0qHMAs",
        "outputId": "6f0045a8-dfaf-4141-d7c4-9bb90d575b63"
      },
      "execution_count": null,
      "outputs": [
        {
          "output_type": "execute_result",
          "data": {
            "text/plain": [
              "((600, 200), (600,))"
            ]
          },
          "metadata": {},
          "execution_count": 15
        }
      ]
    },
    {
      "cell_type": "code",
      "source": [
        "X_train, X_val, y_train, y_val = train_test_split(X_final, y_final, test_size=0.2, random_state=28,stratify = y_final)"
      ],
      "metadata": {
        "id": "sPekf3lVHPAo"
      },
      "execution_count": null,
      "outputs": []
    },
    {
      "cell_type": "code",
      "source": [
        "y_train.shape"
      ],
      "metadata": {
        "colab": {
          "base_uri": "https://localhost:8080/"
        },
        "id": "HussSEvRHQC8",
        "outputId": "49f276cd-7c4d-4c15-a8d9-8b2caabbd0d3"
      },
      "execution_count": null,
      "outputs": [
        {
          "output_type": "execute_result",
          "data": {
            "text/plain": [
              "(480,)"
            ]
          },
          "metadata": {},
          "execution_count": 17
        }
      ]
    },
    {
      "cell_type": "markdown",
      "source": [
        "#Testing of Base Bi-LSTM Model"
      ],
      "metadata": {
        "id": "O0oQTzGyiaIi"
      }
    },
    {
      "cell_type": "code",
      "source": [
        "test_df = pd.read_csv('https://raw.githubusercontent.com/rionaldoalviansa/Deep-Learning/main/preprocessedtest.csv')"
      ],
      "metadata": {
        "id": "Oaw_VmXqmjAB"
      },
      "execution_count": null,
      "outputs": []
    },
    {
      "cell_type": "code",
      "source": [
        "label_encoder = preprocessing.LabelEncoder()\n",
        "test_df['label']= label_encoder.fit_transform(test_df['tagging'])"
      ],
      "metadata": {
        "id": "lb_rpDJ6qd6J"
      },
      "execution_count": null,
      "outputs": []
    },
    {
      "cell_type": "code",
      "source": [
        "test_corpus = []\n",
        "for i in test_df['stem_str']:\n",
        "  test_corpus.append(i)"
      ],
      "metadata": {
        "id": "-BIrpH6eqiMv"
      },
      "execution_count": null,
      "outputs": []
    },
    {
      "cell_type": "code",
      "source": [
        "max = 0\n",
        "for i in test_df['stemmed']:\n",
        "  if len(i) > max:\n",
        "    max = len(i)"
      ],
      "metadata": {
        "id": "pOQlkAosqlSf"
      },
      "execution_count": null,
      "outputs": []
    },
    {
      "cell_type": "code",
      "source": [
        "voc_size = 5000\n",
        "onehot_repr=[one_hot(words,voc_size)for words in test_corpus] "
      ],
      "metadata": {
        "id": "oGRWqZrgqmoB"
      },
      "execution_count": null,
      "outputs": []
    },
    {
      "cell_type": "code",
      "source": [
        "sent_length = 200\n",
        "embedded_docs=pad_sequences(onehot_repr,padding='pre',maxlen=sent_length)"
      ],
      "metadata": {
        "id": "M2CswnS9qoMr"
      },
      "execution_count": null,
      "outputs": []
    },
    {
      "cell_type": "code",
      "source": [
        "import numpy as np\n",
        "X_test=np.array(embedded_docs)\n",
        "y_test=np.array(test_df['label'])"
      ],
      "metadata": {
        "id": "kaTnhE58qqIZ"
      },
      "execution_count": null,
      "outputs": []
    },
    {
      "cell_type": "code",
      "source": [
        "keras.backend.clear_session()\n",
        "embedding_vector_features=256\n",
        "model = Sequential()\n",
        "model.add(Embedding(voc_size,embedding_vector_features,input_length=sent_length))\n",
        "model.add(Bidirectional(LSTM(100)))\n",
        "model.add(Dense(2,activation='sigmoid'))\n",
        "model.compile(loss='sparse_categorical_crossentropy',optimizer = tf.keras.optimizers.Adam(learning_rate=0.001),metrics=['accuracy'])"
      ],
      "metadata": {
        "id": "5njQhQYcd2_8"
      },
      "execution_count": null,
      "outputs": []
    },
    {
      "cell_type": "code",
      "source": [
        "print(model.summary())\n",
        "history = model.fit(X_train,y_train,validation_data=(X_val,y_val), epochs=10, batch_size = 16)"
      ],
      "metadata": {
        "colab": {
          "base_uri": "https://localhost:8080/"
        },
        "outputId": "9e4dce8c-2334-4d08-fb2d-20f711462c96",
        "id": "qqMt84oId2_9"
      },
      "execution_count": null,
      "outputs": [
        {
          "output_type": "stream",
          "name": "stdout",
          "text": [
            "Model: \"sequential\"\n",
            "_________________________________________________________________\n",
            " Layer (type)                Output Shape              Param #   \n",
            "=================================================================\n",
            " embedding (Embedding)       (None, 200, 256)          1280000   \n",
            "                                                                 \n",
            " bidirectional (Bidirectiona  (None, 200)              285600    \n",
            " l)                                                              \n",
            "                                                                 \n",
            " dense (Dense)               (None, 2)                 402       \n",
            "                                                                 \n",
            "=================================================================\n",
            "Total params: 1,566,002\n",
            "Trainable params: 1,566,002\n",
            "Non-trainable params: 0\n",
            "_________________________________________________________________\n",
            "None\n",
            "Epoch 1/10\n",
            "30/30 [==============================] - 7s 54ms/step - loss: 0.6531 - accuracy: 0.6271 - val_loss: 0.5943 - val_accuracy: 0.7000\n",
            "Epoch 2/10\n",
            "30/30 [==============================] - 1s 23ms/step - loss: 0.4679 - accuracy: 0.8438 - val_loss: 0.5161 - val_accuracy: 0.7250\n",
            "Epoch 3/10\n",
            "30/30 [==============================] - 1s 24ms/step - loss: 0.2336 - accuracy: 0.9146 - val_loss: 0.6128 - val_accuracy: 0.7000\n",
            "Epoch 4/10\n",
            "30/30 [==============================] - 1s 23ms/step - loss: 0.1585 - accuracy: 0.9354 - val_loss: 0.7156 - val_accuracy: 0.6833\n",
            "Epoch 5/10\n",
            "30/30 [==============================] - 1s 24ms/step - loss: 0.1311 - accuracy: 0.9458 - val_loss: 0.6766 - val_accuracy: 0.6917\n",
            "Epoch 6/10\n",
            "30/30 [==============================] - 1s 24ms/step - loss: 0.1110 - accuracy: 0.9583 - val_loss: 0.7583 - val_accuracy: 0.6750\n",
            "Epoch 7/10\n",
            "30/30 [==============================] - 1s 24ms/step - loss: 0.0949 - accuracy: 0.9521 - val_loss: 0.7674 - val_accuracy: 0.7083\n",
            "Epoch 8/10\n",
            "30/30 [==============================] - 1s 24ms/step - loss: 0.0835 - accuracy: 0.9583 - val_loss: 0.7721 - val_accuracy: 0.6917\n",
            "Epoch 9/10\n",
            "30/30 [==============================] - 1s 24ms/step - loss: 0.0751 - accuracy: 0.9708 - val_loss: 0.7898 - val_accuracy: 0.6750\n",
            "Epoch 10/10\n",
            "30/30 [==============================] - 1s 24ms/step - loss: 0.0662 - accuracy: 0.9688 - val_loss: 0.8372 - val_accuracy: 0.6833\n"
          ]
        }
      ]
    },
    {
      "cell_type": "code",
      "source": [
        "plt.plot(history.history['loss'])\n",
        "plt.plot(history.history['val_loss'])\n",
        "plt.title('model train vs validation loss')\n",
        "plt.ylabel('loss')\n",
        "plt.xlabel('epoch')\n",
        "plt.legend(['train', 'validation'], loc='upper right')\n",
        "plt.show()"
      ],
      "metadata": {
        "id": "9x2-yiJld2_9",
        "colab": {
          "base_uri": "https://localhost:8080/",
          "height": 295
        },
        "outputId": "1bbaf3c7-162c-4ae1-8b63-1622c4956cbf"
      },
      "execution_count": null,
      "outputs": [
        {
          "output_type": "display_data",
          "data": {
            "text/plain": [
              "<Figure size 432x288 with 1 Axes>"
            ],
            "image/png": "[encoded data removed]"
          },
          "metadata": {
            "needs_background": "light"
          }
        }
      ]
    },
    {
      "cell_type": "code",
      "source": [
        " plt.plot(history.history['accuracy'])\n",
        " plt.plot(history.history['val_accuracy'])\n",
        " plt.title('training accuracy vs validation accuracy')\n",
        " plt.xlabel('epoch')\n",
        " plt.legend(['train', 'validation'], loc='upper right')\n",
        " plt.show() "
      ],
      "metadata": {
        "id": "N3k83nond2_9",
        "colab": {
          "base_uri": "https://localhost:8080/",
          "height": 295
        },
        "outputId": "7312101b-d872-47f6-ce31-b2cfbb07e875"
      },
      "execution_count": null,
      "outputs": [
        {
          "output_type": "display_data",
          "data": {
            "text/plain": [
              "<Figure size 432x288 with 1 Axes>"
            ],
            "image/png": "[encoded data removed]"
          },
          "metadata": {
            "needs_background": "light"
          }
        }
      ]
    },
    {
      "cell_type": "code",
      "source": [
        "y_pred = model.predict(X_test).argmax(-1)\n",
        "accuracy_score(y_test,y_pred)"
      ],
      "metadata": {
        "id": "9u4kaTwTd7OU",
        "colab": {
          "base_uri": "https://localhost:8080/"
        },
        "outputId": "b5bb3045-57d3-4019-df2b-3f3ab5c0be59"
      },
      "execution_count": null,
      "outputs": [
        {
          "output_type": "stream",
          "name": "stdout",
          "text": [
            "8/8 [==============================] - 1s 8ms/step\n"
          ]
        },
        {
          "output_type": "execute_result",
          "data": {
            "text/plain": [
              "0.908"
            ]
          },
          "metadata": {},
          "execution_count": 41
        }
      ]
    },
    {
      "cell_type": "code",
      "source": [
        "import seaborn as sns"
      ],
      "metadata": {
        "id": "wX5zCceed7OU"
      },
      "execution_count": null,
      "outputs": []
    },
    {
      "cell_type": "code",
      "source": [
        "ax = sns.heatmap(confusion_matrix(y_test, y_pred), annot=True, cmap='Blues')\n",
        "\n",
        "ax.set_title('Confusion Matrix\\n\\n');\n",
        "ax.set_xlabel('\\nPredicted Values')\n",
        "ax.set_ylabel('Actual Values ');\n",
        "plt.show()"
      ],
      "metadata": {
        "id": "c_mf3mVVd7OU",
        "colab": {
          "base_uri": "https://localhost:8080/",
          "height": 337
        },
        "outputId": "ae654bb3-74fa-4a60-ec53-664840d419bd"
      },
      "execution_count": null,
      "outputs": [
        {
          "output_type": "display_data",
          "data": {
            "text/plain": [
              "<Figure size 432x288 with 2 Axes>"
            ],
            "image/png": "[encoded data removed]"
          },
          "metadata": {
            "needs_background": "light"
          }
        }
      ]
    },
    {
      "cell_type": "code",
      "source": [
        "print(classification_report(y_test, y_pred))"
      ],
      "metadata": {
        "id": "ooSFDAM6d7OU",
        "colab": {
          "base_uri": "https://localhost:8080/"
        },
        "outputId": "2564b3b2-ccb0-485f-ea25-aa0200dc36c9"
      },
      "execution_count": null,
      "outputs": [
        {
          "output_type": "stream",
          "name": "stdout",
          "text": [
            "              precision    recall  f1-score   support\n",
            "\n",
            "           0       0.89      0.86      0.87        91\n",
            "           1       0.92      0.94      0.93       159\n",
            "\n",
            "    accuracy                           0.91       250\n",
            "   macro avg       0.90      0.90      0.90       250\n",
            "weighted avg       0.91      0.91      0.91       250\n",
            "\n"
          ]
        }
      ]
    }
  ]
}